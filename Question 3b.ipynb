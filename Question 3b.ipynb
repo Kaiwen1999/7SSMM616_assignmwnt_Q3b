{
 "cells": [
  {
   "cell_type": "code",
   "execution_count": 1,
   "id": "5aba8951",
   "metadata": {},
   "outputs": [
    {
     "name": "stdout",
     "output_type": "stream",
     "text": [
      "American call option price: 45.2051\n",
      "American put option price: 41.6566\n"
     ]
    }
   ],
   "source": [
    "import numpy as np\n",
    "from scipy.stats import norm\n",
    "\n",
    "# option parameters\n",
    "S0 = 201.29  # stock price\n",
    "K = 201.29  # strike price\n",
    "vol = 0.6635  # volatility\n",
    "r = 0.04924  # risk-free rate\n",
    "T = 0.5  # time to maturity\n",
    "div = 0.0  # dividend yield\n",
    "\n",
    "# simulation parameters\n",
    "N = 20  # number of time steps\n",
    "M = 1000  # number of simulations\n",
    "\n",
    "# time step size\n",
    "dt = T / N\n",
    "\n",
    "# generate stock price paths using Monte Carlo simulation\n",
    "np.random.seed(0)\n",
    "Z = norm.rvs(size=(M, N))\n",
    "S = np.zeros((M, N+1))\n",
    "S[:,0] = S0\n",
    "for i in range(1, N+1):\n",
    "    S[:,i] = S[:,i-1] * np.exp((r - div - 0.5*vol**2)*dt + vol*np.sqrt(dt)*Z[:,i-1])\n",
    "\n",
    "# determine the exercise value at each time step\n",
    "C = np.maximum(S - K, 0)  # call option\n",
    "P = np.maximum(K - S, 0)  # put option\n",
    "\n",
    "# use regression analysis to find the continuation value at each time step\n",
    "for i in range(N-1, 0, -1):\n",
    "    X = np.column_stack([np.ones(M), S[:,i], S[:,i]**2])\n",
    "    Yc = np.exp(-r*dt) * C[:,i+1]\n",
    "    Yp = np.exp(-r*dt) * P[:,i+1]\n",
    "    coef_c = np.linalg.lstsq(X, Yc, rcond=None)[0]\n",
    "    coef_p = np.linalg.lstsq(X, Yp, rcond=None)[0]\n",
    "    C[:,i] = np.maximum(C[:,i], np.dot(X, coef_c))\n",
    "    P[:,i] = np.maximum(P[:,i], np.dot(X, coef_p))\n",
    "\n",
    "# determine the optimal exercise policy for each path\n",
    "C_ex = np.zeros((M, N+1), dtype=bool)\n",
    "P_ex = np.zeros((M, N+1), dtype=bool)\n",
    "C_ex[:,N] = True\n",
    "P_ex[:,N] = True\n",
    "for i in range(N-1, 0, -1):\n",
    "    C_ex[:,i] = np.logical_and(C[:,i] >= (C[:,i+1]-K), C_ex[:,i+1])\n",
    "    P_ex[:,i] = np.logical_and(P[:,i] >= (P[:,i+1]-K), P_ex[:,i+1])\n",
    "\n",
    "# calculate the expected payoff for each path\n",
    "C_payoff = np.where(C_ex, C, 0)\n",
    "P_payoff = np.where(P_ex, P, 0)\n",
    "C_exp_payoff = np.mean(np.exp(-r*dt*np.arange(N+1))*C_payoff, axis=1)\n",
    "P_exp_payoff = np.mean(np.exp(-r*dt*np.arange(N+1))*P_payoff, axis=1)\n",
    "\n",
    "# discount the expected payoff to the present value to obtain the option prices\n",
    "C_price = np.mean(C_exp_payoff)\n",
    "P_price = np.mean(P_exp_payoff)\n",
    "\n",
    "# print the results\n",
    "print(f\"American call option price: {C_price:.4f}\")\n",
    "print(f\"American put option price: {P_price:.4f}\")\n"
   ]
  }
 ],
 "metadata": {
  "kernelspec": {
   "display_name": "Python 3 (ipykernel)",
   "language": "python",
   "name": "python3"
  },
  "language_info": {
   "codemirror_mode": {
    "name": "ipython",
    "version": 3
   },
   "file_extension": ".py",
   "mimetype": "text/x-python",
   "name": "python",
   "nbconvert_exporter": "python",
   "pygments_lexer": "ipython3",
   "version": "3.11.0"
  }
 },
 "nbformat": 4,
 "nbformat_minor": 5
}
